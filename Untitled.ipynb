{
 "cells": [
  {
   "cell_type": "code",
   "execution_count": 1,
   "id": "0ac58d3a",
   "metadata": {},
   "outputs": [
    {
     "name": "stdout",
     "output_type": "stream",
     "text": [
      "Requirement already satisfied: json-normalize in /Library/Frameworks/Python.framework/Versions/3.10/lib/python3.10/site-packages (1.0.0)\r\n"
     ]
    }
   ],
   "source": [
    "import pandas as pd\n",
    "!pip install json-normalize\n",
    "from pandas import json_normalize\n",
    "import csv\n",
    "import json"
   ]
  },
  {
   "cell_type": "code",
   "execution_count": 4,
   "id": "22380dab",
   "metadata": {},
   "outputs": [
    {
     "data": {
      "text/html": [
       "<div>\n",
       "<style scoped>\n",
       "    .dataframe tbody tr th:only-of-type {\n",
       "        vertical-align: middle;\n",
       "    }\n",
       "\n",
       "    .dataframe tbody tr th {\n",
       "        vertical-align: top;\n",
       "    }\n",
       "\n",
       "    .dataframe thead th {\n",
       "        text-align: right;\n",
       "    }\n",
       "</style>\n",
       "<table border=\"1\" class=\"dataframe\">\n",
       "  <thead>\n",
       "    <tr style=\"text-align: right;\">\n",
       "      <th></th>\n",
       "      <th>title</th>\n",
       "      <th>description</th>\n",
       "      <th>url</th>\n",
       "      <th>image_url</th>\n",
       "      <th>colour</th>\n",
       "      <th>thumbnail</th>\n",
       "      <th>authname</th>\n",
       "      <th>authlink</th>\n",
       "      <th>authurl</th>\n",
       "      <th>fieldname</th>\n",
       "      <th>fieldvalue</th>\n",
       "      <th>inline</th>\n",
       "      <th>footertext</th>\n",
       "    </tr>\n",
       "  </thead>\n",
       "  <tbody>\n",
       "    <tr>\n",
       "      <th>0</th>\n",
       "      <td>Testing again</td>\n",
       "      <td>koi ni chalta hai</td>\n",
       "      <td>https://www.freepnglogos.com/uploads/google-lo...</td>\n",
       "      <td>https://www.freepnglogos.com/uploads/google-lo...</td>\n",
       "      <td>3400f9</td>\n",
       "      <td>https://www.freepnglogos.com/uploads/google-lo...</td>\n",
       "      <td>Shrey</td>\n",
       "      <td>https://www.freepnglogos.com/uploads/google-lo...</td>\n",
       "      <td>https://www.freepnglogos.com/uploads/google-lo...</td>\n",
       "      <td>Shrey Malhotra</td>\n",
       "      <td>tesing this for fun</td>\n",
       "      <td>False</td>\n",
       "      <td>Copyright</td>\n",
       "    </tr>\n",
       "  </tbody>\n",
       "</table>\n",
       "</div>"
      ],
      "text/plain": [
       "           title         description  \\\n",
       "0  Testing again  koi ni chalta hai    \n",
       "\n",
       "                                                 url  \\\n",
       "0  https://www.freepnglogos.com/uploads/google-lo...   \n",
       "\n",
       "                                           image_url  colour  \\\n",
       "0  https://www.freepnglogos.com/uploads/google-lo...  3400f9   \n",
       "\n",
       "                                           thumbnail authname  \\\n",
       "0  https://www.freepnglogos.com/uploads/google-lo...    Shrey   \n",
       "\n",
       "                                            authlink  \\\n",
       "0  https://www.freepnglogos.com/uploads/google-lo...   \n",
       "\n",
       "                                             authurl       fieldname  \\\n",
       "0  https://www.freepnglogos.com/uploads/google-lo...  Shrey Malhotra   \n",
       "\n",
       "             fieldvalue  inline footertext  \n",
       "0  tesing this for fun    False  Copyright  "
      ]
     },
     "execution_count": 4,
     "metadata": {},
     "output_type": "execute_result"
    }
   ],
   "source": [
    "df = pd.read_csv('message.csv', index_col=False)\n",
    "# df['url']=df['url'].str[4:]\n",
    "# df['url']\n",
    "df\n",
    "# df.reset_index(inplace=True)\n",
    "# df.drop('Unnamed: 0', inplace=True, axis=1)\n",
    "# df.drop('index', inplace=True, axis=1)\n",
    "# js= df.to_json(orient='records')[1:-1].replace('},{', '} {')\n",
    "# # js = df.to_json(orient = 'columns')\n",
    "# # train = pd.DataFrame.from_dict(js, orient='columns')\n",
    "# # train.reset_index(level=0, inplace=True)\n",
    "# print(js)\n",
    "# print(type(js))\n"
   ]
  },
  {
   "cell_type": "code",
   "execution_count": 18,
   "id": "e282c1c9",
   "metadata": {},
   "outputs": [
    {
     "name": "stdout",
     "output_type": "stream",
     "text": [
      "https://cdn.discordapp.com/embed/avatars/0.png\n"
     ]
    }
   ],
   "source": [
    "dict_customers = []\n",
    "with open('message.csv', 'r',encoding=\"utf8\") as csvfile:\n",
    "    reader = csv.DictReader(csvfile, lineterminator='\\r')\n",
    "    for csv_customer in reader:\n",
    "             \n",
    "            df = { \"title\": csv_customer['title'],\n",
    "            \"description\": csv_customer['description'], \n",
    "            \"url\": csv_customer['url'],\n",
    "            \"image_url\": csv_customer['url'], \n",
    "            \"color\": csv_customer['colour'], \n",
    "            \"thumbnail\" : csv_customer['thumbnail'],\n",
    "            \"authname\" : csv_customer['authname'],\n",
    "            \"authurl\": csv_customer['authurl'],\n",
    "            \"authlink\": csv_customer['authlink'],\n",
    "            \"fieldname\": csv_customer['fieldname'],\n",
    "            \"fieldvalue\": csv_customer['fieldvalue'],\n",
    "            \"footertext\": csv_customer['footertext']}\n",
    "     \n",
    "            dict_customers.append(df)\n",
    "            jsonData = json.dumps(df,indent=2)\n",
    "#             print(jsonData)\n",
    "df['url']= df['url'][4:]\n",
    "df['image_url'] = df['image_url'][4:]\n",
    "df['thumbnail']= df['thumbnail'][4:]\n",
    "df['authurl']= df['authurl'][4:]\n",
    "df['authurl']= df['authurl'][4:]\n",
    "print(df['url'])"
   ]
  },
  {
   "cell_type": "code",
   "execution_count": 4,
   "id": "f7daf8ad",
   "metadata": {},
   "outputs": [
    {
     "data": {
      "text/plain": [
       "14419462"
      ]
     },
     "execution_count": 4,
     "metadata": {},
     "output_type": "execute_result"
    }
   ],
   "source": [
    "color = int(df['color'], 16) \n",
    "color"
   ]
  },
  {
   "cell_type": "code",
   "execution_count": null,
   "id": "ca280dab",
   "metadata": {},
   "outputs": [],
   "source": []
  }
 ],
 "metadata": {
  "kernelspec": {
   "display_name": "Python 3 (ipykernel)",
   "language": "python",
   "name": "python3"
  },
  "language_info": {
   "codemirror_mode": {
    "name": "ipython",
    "version": 3
   },
   "file_extension": ".py",
   "mimetype": "text/x-python",
   "name": "python",
   "nbconvert_exporter": "python",
   "pygments_lexer": "ipython3",
   "version": "3.10.4"
  }
 },
 "nbformat": 4,
 "nbformat_minor": 5
}
